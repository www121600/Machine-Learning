{
 "cells": [
  {
   "cell_type": "markdown",
   "id": "60605177",
   "metadata": {},
   "source": [
    "# matplotlib图像的绘制"
   ]
  },
  {
   "cell_type": "code",
   "execution_count": 3,
   "id": "8a58ec51",
   "metadata": {},
   "outputs": [],
   "source": [
    "import matplotlib.pyplot as plt\n",
    "import numpy as np\n",
    "plt.rcParams['font.sans-serif']=['SimHei'] #用来正常显示中文标签\n",
    "plt.rcParams['axes.unicode_minus']=False #用来正常显示负号"
   ]
  },
  {
   "cell_type": "code",
   "execution_count": 2,
   "id": "3627f7bc",
   "metadata": {
    "scrolled": true
   },
   "outputs": [
    {
     "data": {
      "image/png": "[encoded data removed]",
      "text/plain": [
       "<Figure size 432x288 with 1 Axes>"
      ]
     },
     "metadata": {
      "needs_background": "light"
     },
     "output_type": "display_data"
    }
   ],
   "source": [
    "# 1. 创建画布\n",
    "plt.figure()\n",
    "\n",
    "# 2. 图像绘制\n",
    "x = [1,2,3,4,5,6]\n",
    "y = [3,6,3,5,3,10]\n",
    "plt.plot(x,y)\n",
    "\n",
    "# 3. 图像展示\n",
    "plt.show()"
   ]
  },
  {
   "cell_type": "code",
   "execution_count": 3,
   "id": "c17fbd3b",
   "metadata": {},
   "outputs": [
    {
     "name": "stdout",
     "output_type": "stream",
     "text": [
      "Help on function figure in module matplotlib.pyplot:\n",
      "\n",
      "figure(num=None, figsize=None, dpi=None, facecolor=None, edgecolor=None, frameon=True, FigureClass=<class 'matplotlib.figure.Figure'>, clear=False, **kwargs)\n",
      "    Create a new figure, or activate an existing figure.\n",
      "    \n",
      "    Parameters\n",
      "    ----------\n",
      "    num : int or str or `.Figure`, optional\n",
      "        A unique identifier for the figure.\n",
      "    \n",
      "        If a figure with that identifier already exists, this figure is made\n",
      "        active and returned. An integer refers to the ``Figure.number``\n",
      "        attribute, a string refers to the figure label.\n",
      "    \n",
      "        If there is no figure with the identifier or *num* is not given, a new\n",
      "        figure is created, made active and returned.  If *num* is an int, it\n",
      "        will be used for the ``Figure.number`` attribute, otherwise, an\n",
      "        auto-generated integer value is used (starting at 1 and incremented\n",
      "        for each new figure). If *num* is a string, the figure label and the\n",
      "        window title is set to this value.\n",
      "    \n",
      "    figsize : (float, float), default: :rc:`figure.figsize`\n",
      "        Width, height in inches.\n",
      "    \n",
      "    dpi : float, default: :rc:`figure.dpi`\n",
      "        The resolution of the figure in dots-per-inch.\n",
      "    \n",
      "    facecolor : color, default: :rc:`figure.facecolor`\n",
      "        The background color.\n",
      "    \n",
      "    edgecolor : color, default: :rc:`figure.edgecolor`\n",
      "        The border color.\n",
      "    \n",
      "    frameon : bool, default: True\n",
      "        If False, suppress drawing the figure frame.\n",
      "    \n",
      "    FigureClass : subclass of `~matplotlib.figure.Figure`\n",
      "        Optionally use a custom `.Figure` instance.\n",
      "    \n",
      "    clear : bool, default: False\n",
      "        If True and the figure already exists, then it is cleared.\n",
      "    \n",
      "    tight_layout : bool or dict, default: :rc:`figure.autolayout`\n",
      "        If ``False`` use *subplotpars*. If ``True`` adjust subplot\n",
      "        parameters using `.tight_layout` with default padding.\n",
      "        When providing a dict containing the keys ``pad``, ``w_pad``,\n",
      "        ``h_pad``, and ``rect``, the default `.tight_layout` paddings\n",
      "        will be overridden.\n",
      "    \n",
      "    constrained_layout : bool, default: :rc:`figure.constrained_layout.use`\n",
      "        If ``True`` use constrained layout to adjust positioning of plot\n",
      "        elements.  Like ``tight_layout``, but designed to be more\n",
      "        flexible.  See\n",
      "        :doc:`/tutorials/intermediate/constrainedlayout_guide`\n",
      "        for examples.  (Note: does not work with `add_subplot` or\n",
      "        `~.pyplot.subplot2grid`.)\n",
      "    \n",
      "    \n",
      "    **kwargs : optional\n",
      "        See `~.matplotlib.figure.Figure` for other possible arguments.\n",
      "    \n",
      "    Returns\n",
      "    -------\n",
      "    `~matplotlib.figure.Figure`\n",
      "        The `.Figure` instance returned will also be passed to\n",
      "        new_figure_manager in the backends, which allows to hook custom\n",
      "        `.Figure` classes into the pyplot interface. Additional kwargs will be\n",
      "        passed to the `.Figure` init function.\n",
      "    \n",
      "    Notes\n",
      "    -----\n",
      "    If you are creating many figures, make sure you explicitly call\n",
      "    `.pyplot.close` on the figures you are not using, because this will\n",
      "    enable pyplot to properly clean up the memory.\n",
      "    \n",
      "    `~matplotlib.rcParams` defines the default values, which can be modified\n",
      "    in the matplotlibrc file.\n",
      "\n"
     ]
    }
   ],
   "source": [
    "help(plt.figure)"
   ]
  },
  {
   "cell_type": "markdown",
   "id": "c8da2b42",
   "metadata": {},
   "source": [
    "# 图像的保存"
   ]
  },
  {
   "cell_type": "code",
   "execution_count": 4,
   "id": "deb665ca",
   "metadata": {},
   "outputs": [
    {
     "data": {
      "text/plain": [
       "<Figure size 432x288 with 0 Axes>"
      ]
     },
     "metadata": {},
     "output_type": "display_data"
    }
   ],
   "source": [
    "plt.savefig(\"./test.png\")"
   ]
  },
  {
   "cell_type": "markdown",
   "id": "55540b56",
   "metadata": {},
   "source": [
    "# 3.案例：显示温度变化状况"
   ]
  },
  {
   "cell_type": "markdown",
   "id": "ac9c937c",
   "metadata": {},
   "source": [
    "## 图像基本绘制功能演示"
   ]
  },
  {
   "cell_type": "code",
   "execution_count": 21,
   "id": "ac6c256f",
   "metadata": {},
   "outputs": [
    {
     "data": {
      "image/png": "[encoded data removed]",
      "text/plain": [
       "<Figure size 2000x800 with 1 Axes>"
      ]
     },
     "metadata": {
      "needs_background": "light"
     },
     "output_type": "display_data"
    }
   ],
   "source": [
    "import matplotlib.pyplot as plt\n",
    "plt.rcParams['font.sans-serif']=['SimHei'] #用来正常显示中文标签\n",
    "plt.rcParams['axes.unicode_minus']=False #用来正常显示负号\n",
    "\n",
    "\n",
    "# 0. 生成数据\n",
    "import random\n",
    "x = range(60)\n",
    "y_bejing = [random.uniform(10,15) for i in x]\n",
    "y_shanghai = [random.uniform(15,25) for i in x]\n",
    "\n",
    "# 1. 创建画布\n",
    "plt.figure(figsize=(20,8), dpi=100)\n",
    "\n",
    "# 2. 图形绘制\n",
    "plt.plot(x,y_bejing, label=\"北京\")\n",
    "plt.plot(x,y_shanghai, label=\"上海\")\n",
    "\n",
    "# 2.1 添加x,y轴刻度\n",
    "y_ticks = range(40)\n",
    "x_ticks_lables = [\"11点{}分\".format(i) for i in x]\n",
    "\n",
    "plt.yticks(y_ticks[::5])\n",
    "plt.xticks(x[::5], x_ticks_lables[::5])\n",
    "\n",
    "# 2.2 添加网格\n",
    "plt.grid(True, linestyle=\"-\", alpha = 0.6)\n",
    "\n",
    "# 2.3 添加描述\n",
    "plt.xlabel(\"时间\")\n",
    "plt.ylabel(\"温度\")\n",
    "plt.title(\"一小时温度变化图\", fontsize=20)\n",
    "\n",
    "# 2.4 显示图例\n",
    "plt.legend()\n",
    "\n",
    "#3. 图形展示\n",
    "plt.show()"
   ]
  },
  {
   "cell_type": "markdown",
   "id": "c33ab988",
   "metadata": {},
   "source": [
    "## 3.2 多个坐标系显示图像"
   ]
  },
  {
   "cell_type": "code",
   "execution_count": 27,
   "id": "a05ec52a",
   "metadata": {},
   "outputs": [
    {
     "data": {
      "image/png": "[encoded data removed]",
      "text/plain": [
       "<Figure size 2000x800 with 2 Axes>"
      ]
     },
     "metadata": {
      "needs_background": "light"
     },
     "output_type": "display_data"
    }
   ],
   "source": [
    "import matplotlib.pyplot as plt\n",
    "plt.rcParams['font.sans-serif']=['SimHei'] #用来正常显示中文标签\n",
    "plt.rcParams['axes.unicode_minus']=False #用来正常显示负号\n",
    "\n",
    "\n",
    "# 0. 生成数据\n",
    "import random\n",
    "x = range(60)\n",
    "y_bejing = [random.uniform(10,15) for i in x]\n",
    "y_shanghai = [random.uniform(15,25) for i in x]\n",
    "\n",
    "# 1. 创建画布\n",
    "# plt.figure(figsize=(20,8), dpi=100)\n",
    "fig, axes = plt.subplots(nrows=1,ncols=2,figsize=(20,8),dpi=100)\n",
    "\n",
    "# 2. 图形绘制\n",
    "# plt.plot(x,y_bejing, label=\"北京\")\n",
    "# plt.plot(x,y_shanghai, label=\"上海\")\n",
    "axes[0].plot(x,y_bejing, label=\"北京\", color=\"g\",linestyle=\"-.\")\n",
    "axes[1].plot(x,y_shanghai, label=\"上海\")\n",
    "\n",
    "# 2.1 添加x,y轴刻度\n",
    "y_ticks = range(40)\n",
    "x_ticks_lables = [\"11点{}分\".format(i) for i in x]\n",
    "\n",
    "# plt.yticks(y_ticks[::5])\n",
    "# plt.xticks(x[::5], x_ticks_lables[::5])\n",
    "\n",
    "axes[0].set_xticks(x[::5])\n",
    "axes[0].set_yticks(y_ticks[::5])\n",
    "axes[0].set_xticklabels(x_ticks_lables[::5])\n",
    "axes[1].set_xticks(x[::5])\n",
    "axes[1].set_yticks(y_ticks[::5])\n",
    "axes[1].set_xticklabels(x_ticks_lables[::5])\n",
    "\n",
    "\n",
    "# 2.2 添加网格\n",
    "# plt.grid(True, linestyle=\"-\", alpha = 0.6)\n",
    "axes[0].grid(True, linestyle=\"-\", alpha = 0.6)\n",
    "axes[1].grid(True, linestyle=\"-\", alpha = 0.6)\n",
    "\n",
    "\n",
    "# 2.3 添加描述\n",
    "# plt.xlabel(\"时间\")\n",
    "# plt.ylabel(\"温度\")\n",
    "# plt.title(\"一小时温度变化图\", fontsize=20)\n",
    "\n",
    "axes[0].set_xlabel(\"时间\")\n",
    "axes[0].set_ylabel(\"温度\")\n",
    "axes[0].set_title(\"北京一小时温度变化图\", fontsize=20)\n",
    "axes[1].set_xlabel(\"时间\")\n",
    "axes[1].set_ylabel(\"温度\")\n",
    "axes[1].set_title(\"上海一小时温度变化图\", fontsize=20)\n",
    "\n",
    "# 2.4 显示图例\n",
    "# plt.legend()\n",
    "axes[0].legend(loc=0)\n",
    "axes[1].legend()\n",
    "\n",
    "#3. 图形展示\n",
    "plt.show()"
   ]
  },
  {
   "cell_type": "markdown",
   "id": "ce9866b2",
   "metadata": {},
   "source": [
    "# plot绘制数学图像"
   ]
  },
  {
   "cell_type": "code",
   "execution_count": 28,
   "id": "256ae04d",
   "metadata": {},
   "outputs": [],
   "source": [
    "import numpy as np"
   ]
  },
  {
   "cell_type": "code",
   "execution_count": 31,
   "id": "91960052",
   "metadata": {},
   "outputs": [
    {
     "data": {
      "image/png": "[encoded data removed]",
      "text/plain": [
       "<Figure size 2000x800 with 1 Axes>"
      ]
     },
     "metadata": {
      "needs_background": "light"
     },
     "output_type": "display_data"
    }
   ],
   "source": [
    "# 0. 生成数据\n",
    "x = np.linspace(-10,10,1000)\n",
    "y = np.sin(x)\n",
    "\n",
    "# 1. 创建画布\n",
    "plt.figure(figsize=(20,8),dpi=100)\n",
    "\n",
    "# 2. 绘制\n",
    "plt.plot(x,y)\n",
    "\n",
    "plt.grid()\n",
    "\n",
    "# 3. 展示\n",
    "plt.show()"
   ]
  },
  {
   "cell_type": "markdown",
   "id": "007ed823",
   "metadata": {},
   "source": [
    "# 散点图"
   ]
  },
  {
   "cell_type": "code",
   "execution_count": 1,
   "id": "a4712a18",
   "metadata": {
    "scrolled": true
   },
   "outputs": [
    {
     "data": {
      "image/png": "[encoded data removed]",
      "text/plain": [
       "<Figure size 2000x800 with 1 Axes>"
      ]
     },
     "metadata": {
      "needs_background": "light"
     },
     "output_type": "display_data"
    }
   ],
   "source": [
    "import matplotlib.pyplot as plt\n",
    "\n",
    "# 0.数据准备\n",
    "x = [225.98, 247.07, 253.14, 457.85, 241.58, 301.01,  20.67, 288.64,\n",
    "       163.56, 120.06, 207.83, 342.75, 147.9 ,  53.06, 224.72,  29.51,\n",
    "        21.61, 483.21, 245.25, 399.25, 343.35]\n",
    "\n",
    "y = [196.63, 203.88, 210.75, 372.74, 202.41, 247.61,  24.9 , 239.34,\n",
    "       140.32, 104.15, 176.84, 288.23, 128.79,  49.64, 191.74,  33.1 ,\n",
    "        30.74, 400.02, 205.35, 330.64, 283.45]\n",
    "\n",
    "# 1.创建画布\n",
    "plt.figure(figsize=(20,8), dpi=100)\n",
    "\n",
    "# 2.图像绘制(散点图)\n",
    "plt.scatter(x,y)\n",
    "\n",
    "# 3.图像展示\n",
    "plt.show()"
   ]
  },
  {
   "cell_type": "markdown",
   "id": "732d047f",
   "metadata": {},
   "source": [
    "# 柱状图"
   ]
  },
  {
   "cell_type": "code",
   "execution_count": 5,
   "id": "a28e4eeb",
   "metadata": {},
   "outputs": [
    {
     "data": {
      "image/png": "[encoded data removed]",
      "text/plain": [
       "<Figure size 2000x800 with 1 Axes>"
      ]
     },
     "metadata": {
      "needs_background": "light"
     },
     "output_type": "display_data"
    }
   ],
   "source": [
    "# 0.获取数据\n",
    "# 电影名字\n",
    "movie_name = ['雷神3：诸神黄昏','正义联盟','东方快车谋杀案','寻梦环游记','全球风暴','降魔传','追捕','七十七天','密战','狂兽','其它']\n",
    "# 横坐标\n",
    "x = range(len(movie_name))\n",
    "# 票房数据\n",
    "y = [73853,57767,22354,15969,14839,8725,8716,8318,7916,6764,52222]\n",
    "\n",
    "\n",
    "# 1.创建画布\n",
    "plt.figure(figsize=(20,8),dpi=100)\n",
    "\n",
    "# 2.绘制\n",
    "plt.bar(x,y, color=['b','r','g','y','c','m','y','k','c','g','b'])\n",
    "\n",
    "# 2.1 x轴\n",
    "plt.xticks(x,movie_name,fontsize=15)\n",
    "\n",
    "# 2.2 网格\n",
    "plt.grid()\n",
    "\n",
    "# 2.3 标题\n",
    "plt.title(\"某月电影票房统计\")\n",
    "\n",
    "\n",
    "# 3.显示\n",
    "plt.show()"
   ]
  },
  {
   "cell_type": "markdown",
   "id": "11efad5c",
   "metadata": {},
   "source": [
    "# Numpy"
   ]
  },
  {
   "cell_type": "code",
   "execution_count": 1,
   "id": "1916d77e",
   "metadata": {},
   "outputs": [],
   "source": [
    "import numpy as np"
   ]
  },
  {
   "cell_type": "code",
   "execution_count": 2,
   "id": "0c1f3665",
   "metadata": {},
   "outputs": [],
   "source": [
    "score = np.array([[80, 89, 86, 67, 79],\n",
    "[78, 97, 89, 67, 81],\n",
    "[90, 94, 78, 67, 74],\n",
    "[91, 91, 90, 67, 69],\n",
    "[76, 87, 75, 67, 86],\n",
    "[70, 79, 84, 67, 84],\n",
    "[94, 92, 93, 67, 64],\n",
    "[86, 85, 83, 67, 80]])"
   ]
  },
  {
   "cell_type": "markdown",
   "id": "09c551be",
   "metadata": {},
   "source": [
    "## 效率对比"
   ]
  },
  {
   "cell_type": "code",
   "execution_count": 8,
   "id": "7da89157",
   "metadata": {},
   "outputs": [
    {
     "name": "stdout",
     "output_type": "stream",
     "text": [
      "Wall time: 562 ms\n",
      "Wall time: 126 ms\n"
     ]
    }
   ],
   "source": [
    "import random\n",
    "import time\n",
    "import numpy as np\n",
    "a = []\n",
    "for i in range(100000000):\n",
    "    a.append(random.random())\n",
    "\n",
    "# 通过%time魔法方法, 查看当前行的代码运行一次所花费的时间\n",
    "%time sum1=sum(a)\n",
    "\n",
    "b=np.array(a)\n",
    "\n",
    "%time sum2=np.sum(b)"
   ]
  },
  {
   "cell_type": "markdown",
   "id": "be51435a",
   "metadata": {},
   "source": [
    "## ndarray属性"
   ]
  },
  {
   "cell_type": "code",
   "execution_count": 9,
   "id": "1de62498",
   "metadata": {},
   "outputs": [
    {
     "data": {
      "text/plain": [
       "(8, 5)"
      ]
     },
     "execution_count": 9,
     "metadata": {},
     "output_type": "execute_result"
    }
   ],
   "source": [
    "score.shape"
   ]
  },
  {
   "cell_type": "code",
   "execution_count": 10,
   "id": "585d0e18",
   "metadata": {},
   "outputs": [
    {
     "data": {
      "text/plain": [
       "2"
      ]
     },
     "execution_count": 10,
     "metadata": {},
     "output_type": "execute_result"
    }
   ],
   "source": [
    "score.ndim"
   ]
  },
  {
   "cell_type": "code",
   "execution_count": 11,
   "id": "665d2f03",
   "metadata": {},
   "outputs": [
    {
     "data": {
      "text/plain": [
       "40"
      ]
     },
     "execution_count": 11,
     "metadata": {},
     "output_type": "execute_result"
    }
   ],
   "source": [
    "score.size"
   ]
  },
  {
   "cell_type": "code",
   "execution_count": 12,
   "id": "015ff325",
   "metadata": {},
   "outputs": [
    {
     "data": {
      "text/plain": [
       "4"
      ]
     },
     "execution_count": 12,
     "metadata": {},
     "output_type": "execute_result"
    }
   ],
   "source": [
    "score.itemsize"
   ]
  },
  {
   "cell_type": "code",
   "execution_count": 13,
   "id": "890d9901",
   "metadata": {},
   "outputs": [
    {
     "data": {
      "text/plain": [
       "dtype('int32')"
      ]
     },
     "execution_count": 13,
     "metadata": {},
     "output_type": "execute_result"
    }
   ],
   "source": [
    "score.dtype"
   ]
  },
  {
   "cell_type": "markdown",
   "id": "08011d1c",
   "metadata": {},
   "source": [
    "## ndarray的形状"
   ]
  },
  {
   "cell_type": "code",
   "execution_count": 14,
   "id": "fb2464f7",
   "metadata": {},
   "outputs": [
    {
     "data": {
      "text/plain": [
       "array([1, 2, 3])"
      ]
     },
     "execution_count": 14,
     "metadata": {},
     "output_type": "execute_result"
    }
   ],
   "source": [
    "a = np.array([1,2,3])\n",
    "a"
   ]
  },
  {
   "cell_type": "code",
   "execution_count": 15,
   "id": "3ac20a00",
   "metadata": {},
   "outputs": [],
   "source": [
    "b = np.array([1,2,3,4])\n",
    "c = np.array([[[1,2,3],[4,5,6]],[[1,2,3],[4,5,6]]])"
   ]
  },
  {
   "cell_type": "code",
   "execution_count": 16,
   "id": "32c72828",
   "metadata": {},
   "outputs": [
    {
     "data": {
      "text/plain": [
       "array([1, 2, 3, 4])"
      ]
     },
     "execution_count": 16,
     "metadata": {},
     "output_type": "execute_result"
    }
   ],
   "source": [
    "b"
   ]
  },
  {
   "cell_type": "code",
   "execution_count": 17,
   "id": "265cb53d",
   "metadata": {},
   "outputs": [
    {
     "data": {
      "text/plain": [
       "array([[[1, 2, 3],\n",
       "        [4, 5, 6]],\n",
       "\n",
       "       [[1, 2, 3],\n",
       "        [4, 5, 6]]])"
      ]
     },
     "execution_count": 17,
     "metadata": {},
     "output_type": "execute_result"
    }
   ],
   "source": [
    "c"
   ]
  },
  {
   "cell_type": "code",
   "execution_count": 18,
   "id": "b328e469",
   "metadata": {},
   "outputs": [
    {
     "data": {
      "text/plain": [
       "(3,)"
      ]
     },
     "execution_count": 18,
     "metadata": {},
     "output_type": "execute_result"
    }
   ],
   "source": [
    "a.shape"
   ]
  },
  {
   "cell_type": "code",
   "execution_count": 19,
   "id": "aba97179",
   "metadata": {},
   "outputs": [
    {
     "data": {
      "text/plain": [
       "(4,)"
      ]
     },
     "execution_count": 19,
     "metadata": {},
     "output_type": "execute_result"
    }
   ],
   "source": [
    "b.shape"
   ]
  },
  {
   "cell_type": "code",
   "execution_count": 20,
   "id": "7c865c5d",
   "metadata": {},
   "outputs": [
    {
     "data": {
      "text/plain": [
       "(2, 2, 3)"
      ]
     },
     "execution_count": 20,
     "metadata": {},
     "output_type": "execute_result"
    }
   ],
   "source": [
    "c.shape"
   ]
  },
  {
   "cell_type": "code",
   "execution_count": 21,
   "id": "44d96da1",
   "metadata": {},
   "outputs": [
    {
     "data": {
      "text/plain": [
       "dtype('int32')"
      ]
     },
     "execution_count": 21,
     "metadata": {},
     "output_type": "execute_result"
    }
   ],
   "source": [
    "a.dtype"
   ]
  },
  {
   "cell_type": "code",
   "execution_count": 22,
   "id": "1018fae0",
   "metadata": {},
   "outputs": [],
   "source": [
    "d = np.array([1,2,3],dtype=np.float32)"
   ]
  },
  {
   "cell_type": "code",
   "execution_count": 23,
   "id": "eb39adb9",
   "metadata": {},
   "outputs": [
    {
     "data": {
      "text/plain": [
       "array([1., 2., 3.], dtype=float32)"
      ]
     },
     "execution_count": 23,
     "metadata": {},
     "output_type": "execute_result"
    }
   ],
   "source": [
    "d"
   ]
  },
  {
   "cell_type": "code",
   "execution_count": 24,
   "id": "55e4a1ca",
   "metadata": {},
   "outputs": [
    {
     "data": {
      "text/plain": [
       "dtype('float32')"
      ]
     },
     "execution_count": 24,
     "metadata": {},
     "output_type": "execute_result"
    }
   ],
   "source": [
    "d.dtype"
   ]
  },
  {
   "cell_type": "code",
   "execution_count": 26,
   "id": "c0e9b325",
   "metadata": {},
   "outputs": [],
   "source": [
    "e = np.array([\"I\",\"love\",\"python\"],dtype=np.string_)"
   ]
  },
  {
   "cell_type": "code",
   "execution_count": 27,
   "id": "acdd739f",
   "metadata": {},
   "outputs": [
    {
     "data": {
      "text/plain": [
       "array([b'I', b'love', b'python'], dtype='|S6')"
      ]
     },
     "execution_count": 27,
     "metadata": {},
     "output_type": "execute_result"
    }
   ],
   "source": [
    "e"
   ]
  },
  {
   "cell_type": "markdown",
   "id": "a353c811",
   "metadata": {},
   "source": [
    "## ndarray的基本操作"
   ]
  },
  {
   "cell_type": "markdown",
   "id": "311e5ac5",
   "metadata": {},
   "source": [
    "### 生成数组"
   ]
  },
  {
   "cell_type": "code",
   "execution_count": 29,
   "id": "44a4a3ba",
   "metadata": {},
   "outputs": [],
   "source": [
    "ones = np.ones([4,8])"
   ]
  },
  {
   "cell_type": "code",
   "execution_count": 30,
   "id": "e872c490",
   "metadata": {},
   "outputs": [
    {
     "data": {
      "text/plain": [
       "array([[0., 0., 0., 0., 0., 0., 0., 0.],\n",
       "       [0., 0., 0., 0., 0., 0., 0., 0.],\n",
       "       [0., 0., 0., 0., 0., 0., 0., 0.],\n",
       "       [0., 0., 0., 0., 0., 0., 0., 0.]])"
      ]
     },
     "execution_count": 30,
     "metadata": {},
     "output_type": "execute_result"
    }
   ],
   "source": [
    "np.zeros_like(ones)"
   ]
  },
  {
   "cell_type": "code",
   "execution_count": 31,
   "id": "b4fe4e7f",
   "metadata": {},
   "outputs": [],
   "source": [
    "a = np.array([[1,2,3],[4,5,6]])"
   ]
  },
  {
   "cell_type": "code",
   "execution_count": 32,
   "id": "e6a6afe1",
   "metadata": {},
   "outputs": [
    {
     "data": {
      "text/plain": [
       "array([[1, 2, 3],\n",
       "       [4, 5, 6]])"
      ]
     },
     "execution_count": 32,
     "metadata": {},
     "output_type": "execute_result"
    }
   ],
   "source": [
    "a1 = np.array(a)\n",
    "a1"
   ]
  },
  {
   "cell_type": "code",
   "execution_count": 33,
   "id": "6f6d08dd",
   "metadata": {},
   "outputs": [
    {
     "data": {
      "text/plain": [
       "array([[1, 2, 3],\n",
       "       [4, 5, 6]])"
      ]
     },
     "execution_count": 33,
     "metadata": {},
     "output_type": "execute_result"
    }
   ],
   "source": [
    "a2 = np.asarray(a)\n",
    "a2"
   ]
  },
  {
   "cell_type": "code",
   "execution_count": 35,
   "id": "7a507aa5",
   "metadata": {},
   "outputs": [],
   "source": [
    "a[0,0] = 100"
   ]
  },
  {
   "cell_type": "code",
   "execution_count": 36,
   "id": "d97e66d1",
   "metadata": {},
   "outputs": [
    {
     "data": {
      "text/plain": [
       "array([  0.,  10.,  20.,  30.,  40.,  50.,  60.,  70.,  80.,  90., 100.])"
      ]
     },
     "execution_count": 36,
     "metadata": {},
     "output_type": "execute_result"
    }
   ],
   "source": [
    "np.linspace(0,100,11)"
   ]
  },
  {
   "cell_type": "code",
   "execution_count": 37,
   "id": "6c990fcc",
   "metadata": {},
   "outputs": [
    {
     "data": {
      "text/plain": [
       "array([10, 12, 14, 16, 18, 20, 22, 24, 26, 28, 30, 32, 34, 36, 38, 40, 42,\n",
       "       44, 46, 48])"
      ]
     },
     "execution_count": 37,
     "metadata": {},
     "output_type": "execute_result"
    }
   ],
   "source": [
    "np.arange(10,50,2)"
   ]
  },
  {
   "cell_type": "code",
   "execution_count": 38,
   "id": "886606ad",
   "metadata": {},
   "outputs": [
    {
     "data": {
      "text/plain": [
       "array([  1.,  10., 100.])"
      ]
     },
     "execution_count": 38,
     "metadata": {},
     "output_type": "execute_result"
    }
   ],
   "source": [
    "np.logspace(0,2,3)"
   ]
  },
  {
   "cell_type": "code",
   "execution_count": 39,
   "id": "c1996e9a",
   "metadata": {},
   "outputs": [
    {
     "data": {
      "text/plain": [
       "array([[0.99518059, 0.47674967, 0.54008234],\n",
       "       [0.09828513, 0.02453312, 0.04202015]])"
      ]
     },
     "execution_count": 39,
     "metadata": {},
     "output_type": "execute_result"
    }
   ],
   "source": [
    "np.random.rand(2,3)"
   ]
  },
  {
   "cell_type": "code",
   "execution_count": 40,
   "id": "a06e5088",
   "metadata": {},
   "outputs": [
    {
     "data": {
      "text/plain": [
       "array([[9.73350885, 6.17335848, 9.62502417, 5.97812002, 8.10107294],\n",
       "       [4.89642059, 3.41641814, 5.34201986, 6.65935376, 6.97908659],\n",
       "       [4.11103025, 9.56624228, 1.19673995, 5.40155002, 7.99454129]])"
      ]
     },
     "execution_count": 40,
     "metadata": {},
     "output_type": "execute_result"
    }
   ],
   "source": [
    "np.random.uniform(low=1,high=10,size=(3,5))"
   ]
  },
  {
   "cell_type": "code",
   "execution_count": 41,
   "id": "4fd4661d",
   "metadata": {},
   "outputs": [
    {
     "data": {
      "text/plain": [
       "array([2, 2])"
      ]
     },
     "execution_count": 41,
     "metadata": {},
     "output_type": "execute_result"
    }
   ],
   "source": [
    "np.random.randint((3,5))"
   ]
  },
  {
   "cell_type": "code",
   "execution_count": 42,
   "id": "d5e86fc9",
   "metadata": {},
   "outputs": [
    {
     "data": {
      "text/plain": [
       "3"
      ]
     },
     "execution_count": 42,
     "metadata": {},
     "output_type": "execute_result"
    }
   ],
   "source": [
    "np.random.randint(3,5)"
   ]
  },
  {
   "cell_type": "code",
   "execution_count": 43,
   "id": "e1783c97",
   "metadata": {},
   "outputs": [
    {
     "data": {
      "text/plain": [
       "array([[5, 8, 2, 6, 1],\n",
       "       [4, 7, 2, 5, 9],\n",
       "       [9, 7, 2, 4, 1]])"
      ]
     },
     "execution_count": 43,
     "metadata": {},
     "output_type": "execute_result"
    }
   ],
   "source": [
    "np.random.randint(1,10,(3,5))"
   ]
  },
  {
   "cell_type": "code",
   "execution_count": 48,
   "id": "b90f2848",
   "metadata": {},
   "outputs": [
    {
     "data": {
      "image/png": "[encoded data removed]",
      "text/plain": [
       "<Figure size 2000x800 with 1 Axes>"
      ]
     },
     "metadata": {
      "needs_background": "light"
     },
     "output_type": "display_data"
    }
   ],
   "source": [
    "# 生成均匀分布小案例\n",
    "import matplotlib.pyplot as plt\n",
    "\n",
    "# 0.准备数据\n",
    "x = np.random.uniform(0,1,100000000)\n",
    "\n",
    "# 1.创建画布\n",
    "plt.figure(figsize=(20,8),dpi=100)\n",
    "\n",
    "# 2.绘制\n",
    "plt.hist(x,bins=1000)\n",
    "\n",
    "# 3.显示\n",
    "plt.show()"
   ]
  },
  {
   "cell_type": "code",
   "execution_count": 49,
   "id": "092fa0a5",
   "metadata": {},
   "outputs": [
    {
     "data": {
      "text/plain": [
       "array([2.62829333, 3.15238126, 3.05963512, ..., 2.63367991, 1.99918526,\n",
       "       2.94894026])"
      ]
     },
     "execution_count": 49,
     "metadata": {},
     "output_type": "execute_result"
    }
   ],
   "source": [
    "# 生成正态分布\n",
    "np.random.normal(1.75,1,100000000)"
   ]
  },
  {
   "cell_type": "code",
   "execution_count": 50,
   "id": "b39ae03a",
   "metadata": {},
   "outputs": [
    {
     "data": {
      "image/png": "[encoded data removed]",
      "text/plain": [
       "<Figure size 2000x800 with 1 Axes>"
      ]
     },
     "metadata": {
      "needs_background": "light"
     },
     "output_type": "display_data"
    }
   ],
   "source": [
    "# 生成均匀分布小案例\n",
    "import matplotlib.pyplot as plt\n",
    "\n",
    "# 0.准备数据\n",
    "x = np.random.normal(1.75,1,100000000)\n",
    "\n",
    "# 1.创建画布\n",
    "plt.figure(figsize=(20,8),dpi=100)\n",
    "\n",
    "# 2.绘制\n",
    "plt.hist(x,bins=1000)\n",
    "\n",
    "# 3.显示\n",
    "plt.show()"
   ]
  },
  {
   "cell_type": "markdown",
   "id": "47e7314f",
   "metadata": {},
   "source": [
    "# 数组索引，切片"
   ]
  },
  {
   "cell_type": "code",
   "execution_count": 4,
   "id": "d2aae662",
   "metadata": {},
   "outputs": [],
   "source": [
    "stock_change = np.random.normal(0,1,(8,10))"
   ]
  },
  {
   "cell_type": "code",
   "execution_count": 5,
   "id": "3c6cfcd1",
   "metadata": {},
   "outputs": [
    {
     "data": {
      "text/plain": [
       "array([[-0.79695222, -0.84404717,  1.61087242,  0.55458516, -1.91661385,\n",
       "        -0.21947996, -1.80246903, -1.24586364,  0.19459277, -0.02771918],\n",
       "       [ 0.55112801,  1.65483158,  1.52287505, -0.26753016, -1.65131086,\n",
       "        -0.58323185, -0.24774747,  0.54612044, -0.16682209, -0.24505615],\n",
       "       [ 0.45874474, -0.18785449, -0.03597806, -0.80787672, -0.3699469 ,\n",
       "        -0.17280637, -0.82211903, -1.73195098, -1.10160607, -0.54239278],\n",
       "       [ 0.27265007, -0.67231159,  0.12320955, -0.95890695,  1.40309865,\n",
       "         1.39421472,  0.38119997,  0.8105625 ,  0.23482179,  1.12607639],\n",
       "       [-0.10429465, -0.45285312,  1.07192745,  1.78779816, -1.18181023,\n",
       "        -0.38478668,  2.15562662,  0.44149148, -0.10840715,  0.28909554],\n",
       "       [ 0.24194441,  1.25051377,  1.19358323, -0.94150483,  0.06458252,\n",
       "        -1.16403681,  1.13419627,  0.33271794,  0.99657844,  0.79395051],\n",
       "       [ 1.35950751, -0.71711088, -1.19026711,  1.41926924,  1.08796865,\n",
       "        -0.16251492, -1.75173346, -1.41847496, -0.52041612, -2.13668951],\n",
       "       [ 2.04065644,  0.72560166,  0.60986255, -2.14215882,  1.01722311,\n",
       "         0.85713929,  0.26316724, -1.61368391,  1.0829141 ,  0.14180698]])"
      ]
     },
     "execution_count": 5,
     "metadata": {},
     "output_type": "execute_result"
    }
   ],
   "source": [
    "stock_change"
   ]
  },
  {
   "cell_type": "code",
   "execution_count": 8,
   "id": "ebfcf0c5",
   "metadata": {},
   "outputs": [
    {
     "data": {
      "text/plain": [
       "array([[-0.79695222, -0.84404717,  1.61087242],\n",
       "       [ 0.55112801,  1.65483158,  1.52287505]])"
      ]
     },
     "execution_count": 8,
     "metadata": {},
     "output_type": "execute_result"
    }
   ],
   "source": [
    "stock_change[0:2,0:3]"
   ]
  },
  {
   "cell_type": "code",
   "execution_count": 9,
   "id": "39fb4a07",
   "metadata": {},
   "outputs": [],
   "source": [
    "a1 = np.array([ [[1,2,3],[4,5,6]], [[12,3,34],[5,6,7]]])"
   ]
  },
  {
   "cell_type": "markdown",
   "id": "c8973faa",
   "metadata": {},
   "source": [
    "# 形状修改"
   ]
  },
  {
   "cell_type": "code",
   "execution_count": 11,
   "id": "f06c4abb",
   "metadata": {},
   "outputs": [],
   "source": [
    "stock_change = np.random.normal(0,1,(4,5))"
   ]
  },
  {
   "cell_type": "code",
   "execution_count": 12,
   "id": "a28208aa",
   "metadata": {},
   "outputs": [
    {
     "data": {
      "text/plain": [
       "array([[-1.12459816,  0.34470431,  0.94291077, -1.30646126,  0.70768913],\n",
       "       [ 0.01640749,  1.06127404,  0.00363714, -0.6078793 , -2.27914984],\n",
       "       [ 1.68434982,  0.53796691, -0.64473034, -0.29764773,  0.37163761],\n",
       "       [ 2.26166491,  2.20873132, -1.01253724,  0.46238063,  2.3804023 ]])"
      ]
     },
     "execution_count": 12,
     "metadata": {},
     "output_type": "execute_result"
    }
   ],
   "source": [
    "stock_change"
   ]
  },
  {
   "cell_type": "code",
   "execution_count": 13,
   "id": "9ad74c1d",
   "metadata": {},
   "outputs": [
    {
     "data": {
      "text/plain": [
       "array([[-1.12459816,  0.34470431,  0.94291077, -1.30646126],\n",
       "       [ 0.70768913,  0.01640749,  1.06127404,  0.00363714],\n",
       "       [-0.6078793 , -2.27914984,  1.68434982,  0.53796691],\n",
       "       [-0.64473034, -0.29764773,  0.37163761,  2.26166491],\n",
       "       [ 2.20873132, -1.01253724,  0.46238063,  2.3804023 ]])"
      ]
     },
     "execution_count": 13,
     "metadata": {},
     "output_type": "execute_result"
    }
   ],
   "source": [
    "stock_change.reshape([5,4])"
   ]
  },
  {
   "cell_type": "code",
   "execution_count": 14,
   "id": "d55a70f5",
   "metadata": {},
   "outputs": [],
   "source": [
    "stock_change.resize([5,4])"
   ]
  },
  {
   "cell_type": "code",
   "execution_count": 16,
   "id": "47b3d400",
   "metadata": {},
   "outputs": [
    {
     "data": {
      "text/plain": [
       "array([[-1.12459816,  0.34470431,  0.94291077, -1.30646126],\n",
       "       [ 0.70768913,  0.01640749,  1.06127404,  0.00363714],\n",
       "       [-0.6078793 , -2.27914984,  1.68434982,  0.53796691],\n",
       "       [-0.64473034, -0.29764773,  0.37163761,  2.26166491],\n",
       "       [ 2.20873132, -1.01253724,  0.46238063,  2.3804023 ]])"
      ]
     },
     "execution_count": 16,
     "metadata": {},
     "output_type": "execute_result"
    }
   ],
   "source": [
    "stock_change"
   ]
  },
  {
   "cell_type": "code",
   "execution_count": 17,
   "id": "00bd8522",
   "metadata": {},
   "outputs": [
    {
     "data": {
      "text/plain": [
       "array([[-1.12459816,  0.70768913, -0.6078793 , -0.64473034,  2.20873132],\n",
       "       [ 0.34470431,  0.01640749, -2.27914984, -0.29764773, -1.01253724],\n",
       "       [ 0.94291077,  1.06127404,  1.68434982,  0.37163761,  0.46238063],\n",
       "       [-1.30646126,  0.00363714,  0.53796691,  2.26166491,  2.3804023 ]])"
      ]
     },
     "execution_count": 17,
     "metadata": {},
     "output_type": "execute_result"
    }
   ],
   "source": [
    "stock_change.T"
   ]
  },
  {
   "cell_type": "code",
   "execution_count": 18,
   "id": "5e5b1bf5",
   "metadata": {},
   "outputs": [
    {
     "data": {
      "text/plain": [
       "array([[-1.12459816,  0.34470431,  0.94291077, -1.30646126],\n",
       "       [ 0.70768913,  0.01640749,  1.06127404,  0.00363714],\n",
       "       [-0.6078793 , -2.27914984,  1.68434982,  0.53796691],\n",
       "       [-0.64473034, -0.29764773,  0.37163761,  2.26166491],\n",
       "       [ 2.20873132, -1.01253724,  0.46238063,  2.3804023 ]])"
      ]
     },
     "execution_count": 18,
     "metadata": {},
     "output_type": "execute_result"
    }
   ],
   "source": [
    "stock_change"
   ]
  },
  {
   "cell_type": "markdown",
   "id": "95f08526",
   "metadata": {},
   "source": [
    "# 类型修改"
   ]
  },
  {
   "cell_type": "code",
   "execution_count": 19,
   "id": "1e97f28b",
   "metadata": {},
   "outputs": [
    {
     "data": {
      "text/plain": [
       "array([[-1.12459816,  0.34470431,  0.94291077, -1.30646126],\n",
       "       [ 0.70768913,  0.01640749,  1.06127404,  0.00363714],\n",
       "       [-0.6078793 , -2.27914984,  1.68434982,  0.53796691],\n",
       "       [-0.64473034, -0.29764773,  0.37163761,  2.26166491],\n",
       "       [ 2.20873132, -1.01253724,  0.46238063,  2.3804023 ]])"
      ]
     },
     "execution_count": 19,
     "metadata": {},
     "output_type": "execute_result"
    }
   ],
   "source": [
    "stock_change"
   ]
  },
  {
   "cell_type": "code",
   "execution_count": 20,
   "id": "8f1fdaa0",
   "metadata": {},
   "outputs": [
    {
     "data": {
      "text/plain": [
       "array([[-1,  0,  0, -1],\n",
       "       [ 0,  0,  1,  0],\n",
       "       [ 0, -2,  1,  0],\n",
       "       [ 0,  0,  0,  2],\n",
       "       [ 2, -1,  0,  2]])"
      ]
     },
     "execution_count": 20,
     "metadata": {},
     "output_type": "execute_result"
    }
   ],
   "source": [
    "stock_change.astype(np.int32)"
   ]
  },
  {
   "cell_type": "code",
   "execution_count": 21,
   "id": "7555c224",
   "metadata": {},
   "outputs": [
    {
     "name": "stderr",
     "output_type": "stream",
     "text": [
      "C:\\Users\\Lenovo\\AppData\\Local\\Temp/ipykernel_6496/2639229034.py:2: DeprecationWarning: tostring() is deprecated. Use tobytes() instead.\n",
      "  arr.tostring()\n"
     ]
    },
    {
     "data": {
      "text/plain": [
       "b'\\x01\\x00\\x00\\x00\\x02\\x00\\x00\\x00\\x03\\x00\\x00\\x00\\x04\\x00\\x00\\x00\\x05\\x00\\x00\\x00\\x06\\x00\\x00\\x00\\x0c\\x00\\x00\\x00\\x03\\x00\\x00\\x00\"\\x00\\x00\\x00\\x05\\x00\\x00\\x00\\x06\\x00\\x00\\x00\\x07\\x00\\x00\\x00'"
      ]
     },
     "execution_count": 21,
     "metadata": {},
     "output_type": "execute_result"
    }
   ],
   "source": [
    "arr = np.array([[[1, 2, 3], [4, 5, 6]], [[12, 3, 34], [5, 6, 7]]])\n",
    "arr.tostring()"
   ]
  },
  {
   "cell_type": "code",
   "execution_count": 22,
   "id": "9cb382c5",
   "metadata": {},
   "outputs": [
    {
     "data": {
      "text/plain": [
       "b'\\x01\\x00\\x00\\x00\\x02\\x00\\x00\\x00\\x03\\x00\\x00\\x00\\x04\\x00\\x00\\x00\\x05\\x00\\x00\\x00\\x06\\x00\\x00\\x00\\x0c\\x00\\x00\\x00\\x03\\x00\\x00\\x00\"\\x00\\x00\\x00\\x05\\x00\\x00\\x00\\x06\\x00\\x00\\x00\\x07\\x00\\x00\\x00'"
      ]
     },
     "execution_count": 22,
     "metadata": {},
     "output_type": "execute_result"
    }
   ],
   "source": [
    "arr.tobytes()"
   ]
  },
  {
   "cell_type": "markdown",
   "id": "6e0d4029",
   "metadata": {},
   "source": [
    "# 数组去重"
   ]
  },
  {
   "cell_type": "code",
   "execution_count": 23,
   "id": "9351fbda",
   "metadata": {},
   "outputs": [
    {
     "data": {
      "text/plain": [
       "array([1, 2, 3, 4, 5, 6])"
      ]
     },
     "execution_count": 23,
     "metadata": {},
     "output_type": "execute_result"
    }
   ],
   "source": [
    "temp = np.array([[1, 2, 3, 4],[3, 4, 5, 6]])\n",
    "np.unique(temp)"
   ]
  },
  {
   "cell_type": "markdown",
   "id": "1e7910c7",
   "metadata": {},
   "source": [
    "# 逻辑运算"
   ]
  },
  {
   "cell_type": "code",
   "execution_count": 24,
   "id": "03c7b2a1",
   "metadata": {},
   "outputs": [],
   "source": [
    "stock_change = np.random.normal(0,1,(10,5))"
   ]
  },
  {
   "cell_type": "code",
   "execution_count": 26,
   "id": "35324f2e",
   "metadata": {},
   "outputs": [],
   "source": [
    "stock_c = stock_change[0:5,0:5]"
   ]
  },
  {
   "cell_type": "code",
   "execution_count": 27,
   "id": "6b26b330",
   "metadata": {},
   "outputs": [
    {
     "data": {
      "text/plain": [
       "array([[False, False, False, False, False],\n",
       "       [False, False, False, False,  True],\n",
       "       [False, False, False, False, False],\n",
       "       [False, False, False, False, False],\n",
       "       [False,  True, False, False, False]])"
      ]
     },
     "execution_count": 27,
     "metadata": {},
     "output_type": "execute_result"
    }
   ],
   "source": [
    "stock_c > 1"
   ]
  },
  {
   "cell_type": "code",
   "execution_count": 28,
   "id": "7631e03c",
   "metadata": {},
   "outputs": [
    {
     "data": {
      "text/plain": [
       "False"
      ]
     },
     "execution_count": 28,
     "metadata": {},
     "output_type": "execute_result"
    }
   ],
   "source": [
    "np.all(stock_change>0)"
   ]
  },
  {
   "cell_type": "code",
   "execution_count": 29,
   "id": "dc7486d4",
   "metadata": {},
   "outputs": [
    {
     "data": {
      "text/plain": [
       "True"
      ]
     },
     "execution_count": 29,
     "metadata": {},
     "output_type": "execute_result"
    }
   ],
   "source": [
    "np.any(stock_change>0)"
   ]
  },
  {
   "cell_type": "markdown",
   "id": "04ca8803",
   "metadata": {},
   "source": [
    "# 数组运算"
   ]
  },
  {
   "cell_type": "code",
   "execution_count": 30,
   "id": "5a86740c",
   "metadata": {},
   "outputs": [],
   "source": [
    "arr = np.array([1,2,3,4])"
   ]
  },
  {
   "cell_type": "code",
   "execution_count": 31,
   "id": "13da7494",
   "metadata": {},
   "outputs": [
    {
     "data": {
      "text/plain": [
       "array([2, 3, 4, 5])"
      ]
     },
     "execution_count": 31,
     "metadata": {},
     "output_type": "execute_result"
    }
   ],
   "source": [
    "arr + 1"
   ]
  },
  {
   "cell_type": "code",
   "execution_count": 32,
   "id": "9e5f1f13",
   "metadata": {},
   "outputs": [],
   "source": [
    "a = np.array([[80, 86],\n",
    "[82, 80],\n",
    "[85, 78],\n",
    "[90, 90],\n",
    "[86, 82],\n",
    "[82, 90],\n",
    "[78, 80],\n",
    "[92, 94]])\n",
    "b = np.array([[0.7], [0.3]])"
   ]
  },
  {
   "cell_type": "code",
   "execution_count": 33,
   "id": "75634165",
   "metadata": {},
   "outputs": [
    {
     "data": {
      "text/plain": [
       "array([[81.8],\n",
       "       [81.4],\n",
       "       [82.9],\n",
       "       [90. ],\n",
       "       [84.8],\n",
       "       [84.4],\n",
       "       [78.6],\n",
       "       [92.6]])"
      ]
     },
     "execution_count": 33,
     "metadata": {},
     "output_type": "execute_result"
    }
   ],
   "source": [
    "np.matmul(a,b)"
   ]
  },
  {
   "cell_type": "code",
   "execution_count": 34,
   "id": "6e8d9642",
   "metadata": {},
   "outputs": [
    {
     "data": {
      "text/plain": [
       "array([[800, 860],\n",
       "       [820, 800],\n",
       "       [850, 780],\n",
       "       [900, 900],\n",
       "       [860, 820],\n",
       "       [820, 900],\n",
       "       [780, 800],\n",
       "       [920, 940]])"
      ]
     },
     "execution_count": 34,
     "metadata": {},
     "output_type": "execute_result"
    }
   ],
   "source": [
    "np.dot(a,10)"
   ]
  },
  {
   "cell_type": "markdown",
   "id": "df7d0d0a",
   "metadata": {},
   "source": [
    "# Pandas"
   ]
  },
  {
   "cell_type": "code",
   "execution_count": 35,
   "id": "11dce245",
   "metadata": {},
   "outputs": [],
   "source": [
    "import pandas as pd"
   ]
  },
  {
   "cell_type": "markdown",
   "id": "7f037cff",
   "metadata": {},
   "source": [
    "## pandas案例导入"
   ]
  },
  {
   "cell_type": "code",
   "execution_count": 36,
   "id": "6c59c57b",
   "metadata": {},
   "outputs": [],
   "source": [
    "stock_change = np.random.normal(0,1,(10,5))"
   ]
  },
  {
   "cell_type": "code",
   "execution_count": 38,
   "id": "5cffb1b8",
   "metadata": {},
   "outputs": [],
   "source": [
    "stock_rise = pd.DataFrame(stock_change)"
   ]
  },
  {
   "cell_type": "code",
   "execution_count": 39,
   "id": "167f8d00",
   "metadata": {},
   "outputs": [
    {
     "data": {
      "text/html": [
       "<div>\n",
       "<style scoped>\n",
       "    .dataframe tbody tr th:only-of-type {\n",
       "        vertical-align: middle;\n",
       "    }\n",
       "\n",
       "    .dataframe tbody tr th {\n",
       "        vertical-align: top;\n",
       "    }\n",
       "\n",
       "    .dataframe thead th {\n",
       "        text-align: right;\n",
       "    }\n",
       "</style>\n",
       "<table border=\"1\" class=\"dataframe\">\n",
       "  <thead>\n",
       "    <tr style=\"text-align: right;\">\n",
       "      <th></th>\n",
       "      <th>0</th>\n",
       "      <th>1</th>\n",
       "      <th>2</th>\n",
       "      <th>3</th>\n",
       "      <th>4</th>\n",
       "    </tr>\n",
       "  </thead>\n",
       "  <tbody>\n",
       "    <tr>\n",
       "      <th>0</th>\n",
       "      <td>0.234709</td>\n",
       "      <td>-1.005952</td>\n",
       "      <td>2.074091</td>\n",
       "      <td>0.797388</td>\n",
       "      <td>0.213401</td>\n",
       "    </tr>\n",
       "    <tr>\n",
       "      <th>1</th>\n",
       "      <td>-0.381815</td>\n",
       "      <td>-1.749655</td>\n",
       "      <td>-0.693875</td>\n",
       "      <td>0.494214</td>\n",
       "      <td>-0.293212</td>\n",
       "    </tr>\n",
       "    <tr>\n",
       "      <th>2</th>\n",
       "      <td>-0.408026</td>\n",
       "      <td>0.309488</td>\n",
       "      <td>0.686392</td>\n",
       "      <td>0.397804</td>\n",
       "      <td>0.064070</td>\n",
       "    </tr>\n",
       "    <tr>\n",
       "      <th>3</th>\n",
       "      <td>-0.570275</td>\n",
       "      <td>0.293880</td>\n",
       "      <td>1.561901</td>\n",
       "      <td>0.692647</td>\n",
       "      <td>0.275768</td>\n",
       "    </tr>\n",
       "    <tr>\n",
       "      <th>4</th>\n",
       "      <td>-1.420745</td>\n",
       "      <td>0.999328</td>\n",
       "      <td>-0.135032</td>\n",
       "      <td>-0.684069</td>\n",
       "      <td>-0.941858</td>\n",
       "    </tr>\n",
       "    <tr>\n",
       "      <th>5</th>\n",
       "      <td>-2.296987</td>\n",
       "      <td>1.119557</td>\n",
       "      <td>-0.990138</td>\n",
       "      <td>0.076371</td>\n",
       "      <td>-0.129656</td>\n",
       "    </tr>\n",
       "    <tr>\n",
       "      <th>6</th>\n",
       "      <td>-1.420464</td>\n",
       "      <td>1.607173</td>\n",
       "      <td>1.026816</td>\n",
       "      <td>0.723663</td>\n",
       "      <td>-0.319163</td>\n",
       "    </tr>\n",
       "    <tr>\n",
       "      <th>7</th>\n",
       "      <td>0.031249</td>\n",
       "      <td>1.413133</td>\n",
       "      <td>-1.704376</td>\n",
       "      <td>2.256082</td>\n",
       "      <td>-0.193773</td>\n",
       "    </tr>\n",
       "    <tr>\n",
       "      <th>8</th>\n",
       "      <td>-0.515731</td>\n",
       "      <td>-1.310724</td>\n",
       "      <td>-1.706944</td>\n",
       "      <td>-0.905999</td>\n",
       "      <td>1.657500</td>\n",
       "    </tr>\n",
       "    <tr>\n",
       "      <th>9</th>\n",
       "      <td>0.359462</td>\n",
       "      <td>0.766738</td>\n",
       "      <td>1.376554</td>\n",
       "      <td>-0.786881</td>\n",
       "      <td>-1.339166</td>\n",
       "    </tr>\n",
       "  </tbody>\n",
       "</table>\n",
       "</div>"
      ],
      "text/plain": [
       "          0         1         2         3         4\n",
       "0  0.234709 -1.005952  2.074091  0.797388  0.213401\n",
       "1 -0.381815 -1.749655 -0.693875  0.494214 -0.293212\n",
       "2 -0.408026  0.309488  0.686392  0.397804  0.064070\n",
       "3 -0.570275  0.293880  1.561901  0.692647  0.275768\n",
       "4 -1.420745  0.999328 -0.135032 -0.684069 -0.941858\n",
       "5 -2.296987  1.119557 -0.990138  0.076371 -0.129656\n",
       "6 -1.420464  1.607173  1.026816  0.723663 -0.319163\n",
       "7  0.031249  1.413133 -1.704376  2.256082 -0.193773\n",
       "8 -0.515731 -1.310724 -1.706944 -0.905999  1.657500\n",
       "9  0.359462  0.766738  1.376554 -0.786881 -1.339166"
      ]
     },
     "execution_count": 39,
     "metadata": {},
     "output_type": "execute_result"
    }
   ],
   "source": [
    "stock_rise"
   ]
  },
  {
   "cell_type": "code",
   "execution_count": 41,
   "id": "26ce57fb",
   "metadata": {},
   "outputs": [
    {
     "data": {
      "text/plain": [
       "(10, 5)"
      ]
     },
     "execution_count": 41,
     "metadata": {},
     "output_type": "execute_result"
    }
   ],
   "source": [
    "stock_rise.shape"
   ]
  },
  {
   "cell_type": "code",
   "execution_count": 46,
   "id": "0cac0426",
   "metadata": {},
   "outputs": [],
   "source": [
    "stock_code = [\"股票{}\".format(i+1) for i in range(stock_rise.shape[0])]"
   ]
  },
  {
   "cell_type": "code",
   "execution_count": 47,
   "id": "9544458c",
   "metadata": {},
   "outputs": [
    {
     "data": {
      "text/plain": [
       "['股票1', '股票2', '股票3', '股票4', '股票5', '股票6', '股票7', '股票8', '股票9', '股票10']"
      ]
     },
     "execution_count": 47,
     "metadata": {},
     "output_type": "execute_result"
    }
   ],
   "source": [
    "stock_code"
   ]
  },
  {
   "cell_type": "code",
   "execution_count": 48,
   "id": "338aac1a",
   "metadata": {},
   "outputs": [
    {
     "data": {
      "text/html": [
       "<div>\n",
       "<style scoped>\n",
       "    .dataframe tbody tr th:only-of-type {\n",
       "        vertical-align: middle;\n",
       "    }\n",
       "\n",
       "    .dataframe tbody tr th {\n",
       "        vertical-align: top;\n",
       "    }\n",
       "\n",
       "    .dataframe thead th {\n",
       "        text-align: right;\n",
       "    }\n",
       "</style>\n",
       "<table border=\"1\" class=\"dataframe\">\n",
       "  <thead>\n",
       "    <tr style=\"text-align: right;\">\n",
       "      <th></th>\n",
       "      <th>0</th>\n",
       "      <th>1</th>\n",
       "      <th>2</th>\n",
       "      <th>3</th>\n",
       "      <th>4</th>\n",
       "    </tr>\n",
       "  </thead>\n",
       "  <tbody>\n",
       "    <tr>\n",
       "      <th>股票1</th>\n",
       "      <td>0.234709</td>\n",
       "      <td>-1.005952</td>\n",
       "      <td>2.074091</td>\n",
       "      <td>0.797388</td>\n",
       "      <td>0.213401</td>\n",
       "    </tr>\n",
       "    <tr>\n",
       "      <th>股票2</th>\n",
       "      <td>-0.381815</td>\n",
       "      <td>-1.749655</td>\n",
       "      <td>-0.693875</td>\n",
       "      <td>0.494214</td>\n",
       "      <td>-0.293212</td>\n",
       "    </tr>\n",
       "    <tr>\n",
       "      <th>股票3</th>\n",
       "      <td>-0.408026</td>\n",
       "      <td>0.309488</td>\n",
       "      <td>0.686392</td>\n",
       "      <td>0.397804</td>\n",
       "      <td>0.064070</td>\n",
       "    </tr>\n",
       "    <tr>\n",
       "      <th>股票4</th>\n",
       "      <td>-0.570275</td>\n",
       "      <td>0.293880</td>\n",
       "      <td>1.561901</td>\n",
       "      <td>0.692647</td>\n",
       "      <td>0.275768</td>\n",
       "    </tr>\n",
       "    <tr>\n",
       "      <th>股票5</th>\n",
       "      <td>-1.420745</td>\n",
       "      <td>0.999328</td>\n",
       "      <td>-0.135032</td>\n",
       "      <td>-0.684069</td>\n",
       "      <td>-0.941858</td>\n",
       "    </tr>\n",
       "    <tr>\n",
       "      <th>股票6</th>\n",
       "      <td>-2.296987</td>\n",
       "      <td>1.119557</td>\n",
       "      <td>-0.990138</td>\n",
       "      <td>0.076371</td>\n",
       "      <td>-0.129656</td>\n",
       "    </tr>\n",
       "    <tr>\n",
       "      <th>股票7</th>\n",
       "      <td>-1.420464</td>\n",
       "      <td>1.607173</td>\n",
       "      <td>1.026816</td>\n",
       "      <td>0.723663</td>\n",
       "      <td>-0.319163</td>\n",
       "    </tr>\n",
       "    <tr>\n",
       "      <th>股票8</th>\n",
       "      <td>0.031249</td>\n",
       "      <td>1.413133</td>\n",
       "      <td>-1.704376</td>\n",
       "      <td>2.256082</td>\n",
       "      <td>-0.193773</td>\n",
       "    </tr>\n",
       "    <tr>\n",
       "      <th>股票9</th>\n",
       "      <td>-0.515731</td>\n",
       "      <td>-1.310724</td>\n",
       "      <td>-1.706944</td>\n",
       "      <td>-0.905999</td>\n",
       "      <td>1.657500</td>\n",
       "    </tr>\n",
       "    <tr>\n",
       "      <th>股票10</th>\n",
       "      <td>0.359462</td>\n",
       "      <td>0.766738</td>\n",
       "      <td>1.376554</td>\n",
       "      <td>-0.786881</td>\n",
       "      <td>-1.339166</td>\n",
       "    </tr>\n",
       "  </tbody>\n",
       "</table>\n",
       "</div>"
      ],
      "text/plain": [
       "             0         1         2         3         4\n",
       "股票1   0.234709 -1.005952  2.074091  0.797388  0.213401\n",
       "股票2  -0.381815 -1.749655 -0.693875  0.494214 -0.293212\n",
       "股票3  -0.408026  0.309488  0.686392  0.397804  0.064070\n",
       "股票4  -0.570275  0.293880  1.561901  0.692647  0.275768\n",
       "股票5  -1.420745  0.999328 -0.135032 -0.684069 -0.941858\n",
       "股票6  -2.296987  1.119557 -0.990138  0.076371 -0.129656\n",
       "股票7  -1.420464  1.607173  1.026816  0.723663 -0.319163\n",
       "股票8   0.031249  1.413133 -1.704376  2.256082 -0.193773\n",
       "股票9  -0.515731 -1.310724 -1.706944 -0.905999  1.657500\n",
       "股票10  0.359462  0.766738  1.376554 -0.786881 -1.339166"
      ]
     },
     "execution_count": 48,
     "metadata": {},
     "output_type": "execute_result"
    }
   ],
   "source": [
    "pd.DataFrame(stock_change,index=stock_code)"
   ]
  },
  {
   "cell_type": "code",
   "execution_count": 49,
   "id": "22e3adf3",
   "metadata": {},
   "outputs": [],
   "source": [
    "date = pd.date_range(start=\"20190401\", periods=stock_rise.shape[1], freq=\"B\")"
   ]
  },
  {
   "cell_type": "code",
   "execution_count": 50,
   "id": "dece5225",
   "metadata": {},
   "outputs": [
    {
     "data": {
      "text/plain": [
       "DatetimeIndex(['2019-04-01', '2019-04-02', '2019-04-03', '2019-04-04',\n",
       "               '2019-04-05'],\n",
       "              dtype='datetime64[ns]', freq='B')"
      ]
     },
     "execution_count": 50,
     "metadata": {},
     "output_type": "execute_result"
    }
   ],
   "source": [
    "date"
   ]
  },
  {
   "cell_type": "code",
   "execution_count": 51,
   "id": "9f2bd28a",
   "metadata": {},
   "outputs": [
    {
     "data": {
      "text/html": [
       "<div>\n",
       "<style scoped>\n",
       "    .dataframe tbody tr th:only-of-type {\n",
       "        vertical-align: middle;\n",
       "    }\n",
       "\n",
       "    .dataframe tbody tr th {\n",
       "        vertical-align: top;\n",
       "    }\n",
       "\n",
       "    .dataframe thead th {\n",
       "        text-align: right;\n",
       "    }\n",
       "</style>\n",
       "<table border=\"1\" class=\"dataframe\">\n",
       "  <thead>\n",
       "    <tr style=\"text-align: right;\">\n",
       "      <th></th>\n",
       "      <th>2019-04-01</th>\n",
       "      <th>2019-04-02</th>\n",
       "      <th>2019-04-03</th>\n",
       "      <th>2019-04-04</th>\n",
       "      <th>2019-04-05</th>\n",
       "    </tr>\n",
       "  </thead>\n",
       "  <tbody>\n",
       "    <tr>\n",
       "      <th>股票1</th>\n",
       "      <td>0.234709</td>\n",
       "      <td>-1.005952</td>\n",
       "      <td>2.074091</td>\n",
       "      <td>0.797388</td>\n",
       "      <td>0.213401</td>\n",
       "    </tr>\n",
       "    <tr>\n",
       "      <th>股票2</th>\n",
       "      <td>-0.381815</td>\n",
       "      <td>-1.749655</td>\n",
       "      <td>-0.693875</td>\n",
       "      <td>0.494214</td>\n",
       "      <td>-0.293212</td>\n",
       "    </tr>\n",
       "    <tr>\n",
       "      <th>股票3</th>\n",
       "      <td>-0.408026</td>\n",
       "      <td>0.309488</td>\n",
       "      <td>0.686392</td>\n",
       "      <td>0.397804</td>\n",
       "      <td>0.064070</td>\n",
       "    </tr>\n",
       "    <tr>\n",
       "      <th>股票4</th>\n",
       "      <td>-0.570275</td>\n",
       "      <td>0.293880</td>\n",
       "      <td>1.561901</td>\n",
       "      <td>0.692647</td>\n",
       "      <td>0.275768</td>\n",
       "    </tr>\n",
       "    <tr>\n",
       "      <th>股票5</th>\n",
       "      <td>-1.420745</td>\n",
       "      <td>0.999328</td>\n",
       "      <td>-0.135032</td>\n",
       "      <td>-0.684069</td>\n",
       "      <td>-0.941858</td>\n",
       "    </tr>\n",
       "    <tr>\n",
       "      <th>股票6</th>\n",
       "      <td>-2.296987</td>\n",
       "      <td>1.119557</td>\n",
       "      <td>-0.990138</td>\n",
       "      <td>0.076371</td>\n",
       "      <td>-0.129656</td>\n",
       "    </tr>\n",
       "    <tr>\n",
       "      <th>股票7</th>\n",
       "      <td>-1.420464</td>\n",
       "      <td>1.607173</td>\n",
       "      <td>1.026816</td>\n",
       "      <td>0.723663</td>\n",
       "      <td>-0.319163</td>\n",
       "    </tr>\n",
       "    <tr>\n",
       "      <th>股票8</th>\n",
       "      <td>0.031249</td>\n",
       "      <td>1.413133</td>\n",
       "      <td>-1.704376</td>\n",
       "      <td>2.256082</td>\n",
       "      <td>-0.193773</td>\n",
       "    </tr>\n",
       "    <tr>\n",
       "      <th>股票9</th>\n",
       "      <td>-0.515731</td>\n",
       "      <td>-1.310724</td>\n",
       "      <td>-1.706944</td>\n",
       "      <td>-0.905999</td>\n",
       "      <td>1.657500</td>\n",
       "    </tr>\n",
       "    <tr>\n",
       "      <th>股票10</th>\n",
       "      <td>0.359462</td>\n",
       "      <td>0.766738</td>\n",
       "      <td>1.376554</td>\n",
       "      <td>-0.786881</td>\n",
       "      <td>-1.339166</td>\n",
       "    </tr>\n",
       "  </tbody>\n",
       "</table>\n",
       "</div>"
      ],
      "text/plain": [
       "      2019-04-01  2019-04-02  2019-04-03  2019-04-04  2019-04-05\n",
       "股票1     0.234709   -1.005952    2.074091    0.797388    0.213401\n",
       "股票2    -0.381815   -1.749655   -0.693875    0.494214   -0.293212\n",
       "股票3    -0.408026    0.309488    0.686392    0.397804    0.064070\n",
       "股票4    -0.570275    0.293880    1.561901    0.692647    0.275768\n",
       "股票5    -1.420745    0.999328   -0.135032   -0.684069   -0.941858\n",
       "股票6    -2.296987    1.119557   -0.990138    0.076371   -0.129656\n",
       "股票7    -1.420464    1.607173    1.026816    0.723663   -0.319163\n",
       "股票8     0.031249    1.413133   -1.704376    2.256082   -0.193773\n",
       "股票9    -0.515731   -1.310724   -1.706944   -0.905999    1.657500\n",
       "股票10    0.359462    0.766738    1.376554   -0.786881   -1.339166"
      ]
     },
     "execution_count": 51,
     "metadata": {},
     "output_type": "execute_result"
    }
   ],
   "source": [
    "pd.DataFrame(stock_change,index=stock_code,columns=date)"
   ]
  },
  {
   "cell_type": "markdown",
   "id": "1d6b3737",
   "metadata": {},
   "source": [
    "## 设置索引"
   ]
  },
  {
   "cell_type": "markdown",
   "id": "1a0c5928",
   "metadata": {},
   "source": [
    "## 分类统计"
   ]
  },
  {
   "cell_type": "markdown",
   "id": "affc7a6f",
   "metadata": {},
   "source": [
    "# 案例"
   ]
  },
  {
   "cell_type": "code",
   "execution_count": 1,
   "id": "d12dcf5b",
   "metadata": {},
   "outputs": [],
   "source": [
    "import pandas as pd\n",
    "import numpy as np\n",
    "from matplotlib import pyplot as plt"
   ]
  },
  {
   "cell_type": "markdown",
   "id": "6e4014e7",
   "metadata": {},
   "source": [
    "## 文件读取"
   ]
  },
  {
   "cell_type": "code",
   "execution_count": 2,
   "id": "181aa8ab",
   "metadata": {},
   "outputs": [],
   "source": [
    "path = \"./IMDB-Movie-Data.csv\"\n",
    "df = pd.read_csv(path)"
   ]
  },
  {
   "cell_type": "code",
   "execution_count": 3,
   "id": "0b13552b",
   "metadata": {},
   "outputs": [
    {
     "data": {
      "text/plain": [
       "6.723200000000003"
      ]
     },
     "execution_count": 3,
     "metadata": {},
     "output_type": "execute_result"
    }
   ],
   "source": [
    "df[\"Rating\"].mean()"
   ]
  },
  {
   "cell_type": "code",
   "execution_count": 4,
   "id": "2165809e",
   "metadata": {},
   "outputs": [
    {
     "data": {
      "text/plain": [
       "<AxesSubplot:ylabel='Frequency'>"
      ]
     },
     "execution_count": 4,
     "metadata": {},
     "output_type": "execute_result"
    },
    {
     "data": {
      "image/png": "[encoded data removed]",
      "text/plain": [
       "<Figure size 1440x576 with 1 Axes>"
      ]
     },
     "metadata": {
      "needs_background": "light"
     },
     "output_type": "display_data"
    }
   ],
   "source": [
    "df[\"Rating\"].plot(kind='hist',figsize=(20,8))"
   ]
  },
  {
   "cell_type": "markdown",
   "id": "16ce907a",
   "metadata": {},
   "source": [
    "## 对于这一组电影数据，如果我们希望统计电影分类(genre)的情况，应该如何处理数据？"
   ]
  },
  {
   "cell_type": "code",
   "execution_count": 6,
   "id": "4f2e8691",
   "metadata": {},
   "outputs": [
    {
     "data": {
      "text/html": [
       "<div>\n",
       "<style scoped>\n",
       "    .dataframe tbody tr th:only-of-type {\n",
       "        vertical-align: middle;\n",
       "    }\n",
       "\n",
       "    .dataframe tbody tr th {\n",
       "        vertical-align: top;\n",
       "    }\n",
       "\n",
       "    .dataframe thead th {\n",
       "        text-align: right;\n",
       "    }\n",
       "</style>\n",
       "<table border=\"1\" class=\"dataframe\">\n",
       "  <thead>\n",
       "    <tr style=\"text-align: right;\">\n",
       "      <th></th>\n",
       "      <th>Rank</th>\n",
       "      <th>Title</th>\n",
       "      <th>Genre</th>\n",
       "      <th>Description</th>\n",
       "      <th>Director</th>\n",
       "      <th>Actors</th>\n",
       "      <th>Year</th>\n",
       "      <th>Runtime (Minutes)</th>\n",
       "      <th>Rating</th>\n",
       "      <th>Votes</th>\n",
       "      <th>Revenue (Millions)</th>\n",
       "      <th>Metascore</th>\n",
       "    </tr>\n",
       "  </thead>\n",
       "  <tbody>\n",
       "    <tr>\n",
       "      <th>0</th>\n",
       "      <td>1</td>\n",
       "      <td>Guardians of the Galaxy</td>\n",
       "      <td>Action,Adventure,Sci-Fi</td>\n",
       "      <td>A group of intergalactic criminals are forced ...</td>\n",
       "      <td>James Gunn</td>\n",
       "      <td>Chris Pratt, Vin Diesel, Bradley Cooper, Zoe S...</td>\n",
       "      <td>2014</td>\n",
       "      <td>121</td>\n",
       "      <td>8.1</td>\n",
       "      <td>757074</td>\n",
       "      <td>333.13</td>\n",
       "      <td>76.0</td>\n",
       "    </tr>\n",
       "    <tr>\n",
       "      <th>1</th>\n",
       "      <td>2</td>\n",
       "      <td>Prometheus</td>\n",
       "      <td>Adventure,Mystery,Sci-Fi</td>\n",
       "      <td>Following clues to the origin of mankind, a te...</td>\n",
       "      <td>Ridley Scott</td>\n",
       "      <td>Noomi Rapace, Logan Marshall-Green, Michael Fa...</td>\n",
       "      <td>2012</td>\n",
       "      <td>124</td>\n",
       "      <td>7.0</td>\n",
       "      <td>485820</td>\n",
       "      <td>126.46</td>\n",
       "      <td>65.0</td>\n",
       "    </tr>\n",
       "    <tr>\n",
       "      <th>2</th>\n",
       "      <td>3</td>\n",
       "      <td>Split</td>\n",
       "      <td>Horror,Thriller</td>\n",
       "      <td>Three girls are kidnapped by a man with a diag...</td>\n",
       "      <td>M. Night Shyamalan</td>\n",
       "      <td>James McAvoy, Anya Taylor-Joy, Haley Lu Richar...</td>\n",
       "      <td>2016</td>\n",
       "      <td>117</td>\n",
       "      <td>7.3</td>\n",
       "      <td>157606</td>\n",
       "      <td>138.12</td>\n",
       "      <td>62.0</td>\n",
       "    </tr>\n",
       "    <tr>\n",
       "      <th>3</th>\n",
       "      <td>4</td>\n",
       "      <td>Sing</td>\n",
       "      <td>Animation,Comedy,Family</td>\n",
       "      <td>In a city of humanoid animals, a hustling thea...</td>\n",
       "      <td>Christophe Lourdelet</td>\n",
       "      <td>Matthew McConaughey,Reese Witherspoon, Seth Ma...</td>\n",
       "      <td>2016</td>\n",
       "      <td>108</td>\n",
       "      <td>7.2</td>\n",
       "      <td>60545</td>\n",
       "      <td>270.32</td>\n",
       "      <td>59.0</td>\n",
       "    </tr>\n",
       "    <tr>\n",
       "      <th>4</th>\n",
       "      <td>5</td>\n",
       "      <td>Suicide Squad</td>\n",
       "      <td>Action,Adventure,Fantasy</td>\n",
       "      <td>A secret government agency recruits some of th...</td>\n",
       "      <td>David Ayer</td>\n",
       "      <td>Will Smith, Jared Leto, Margot Robbie, Viola D...</td>\n",
       "      <td>2016</td>\n",
       "      <td>123</td>\n",
       "      <td>6.2</td>\n",
       "      <td>393727</td>\n",
       "      <td>325.02</td>\n",
       "      <td>40.0</td>\n",
       "    </tr>\n",
       "  </tbody>\n",
       "</table>\n",
       "</div>"
      ],
      "text/plain": [
       "   Rank                    Title                     Genre  \\\n",
       "0     1  Guardians of the Galaxy   Action,Adventure,Sci-Fi   \n",
       "1     2               Prometheus  Adventure,Mystery,Sci-Fi   \n",
       "2     3                    Split           Horror,Thriller   \n",
       "3     4                     Sing   Animation,Comedy,Family   \n",
       "4     5            Suicide Squad  Action,Adventure,Fantasy   \n",
       "\n",
       "                                         Description              Director  \\\n",
       "0  A group of intergalactic criminals are forced ...            James Gunn   \n",
       "1  Following clues to the origin of mankind, a te...          Ridley Scott   \n",
       "2  Three girls are kidnapped by a man with a diag...    M. Night Shyamalan   \n",
       "3  In a city of humanoid animals, a hustling thea...  Christophe Lourdelet   \n",
       "4  A secret government agency recruits some of th...            David Ayer   \n",
       "\n",
       "                                              Actors  Year  Runtime (Minutes)  \\\n",
       "0  Chris Pratt, Vin Diesel, Bradley Cooper, Zoe S...  2014                121   \n",
       "1  Noomi Rapace, Logan Marshall-Green, Michael Fa...  2012                124   \n",
       "2  James McAvoy, Anya Taylor-Joy, Haley Lu Richar...  2016                117   \n",
       "3  Matthew McConaughey,Reese Witherspoon, Seth Ma...  2016                108   \n",
       "4  Will Smith, Jared Leto, Margot Robbie, Viola D...  2016                123   \n",
       "\n",
       "   Rating   Votes  Revenue (Millions)  Metascore  \n",
       "0     8.1  757074              333.13       76.0  \n",
       "1     7.0  485820              126.46       65.0  \n",
       "2     7.3  157606              138.12       62.0  \n",
       "3     7.2   60545              270.32       59.0  \n",
       "4     6.2  393727              325.02       40.0  "
      ]
     },
     "execution_count": 6,
     "metadata": {},
     "output_type": "execute_result"
    }
   ],
   "source": [
    "df.head()"
   ]
  },
  {
   "cell_type": "code",
   "execution_count": 7,
   "id": "84ea74c9",
   "metadata": {
    "scrolled": true
   },
   "outputs": [
    {
     "data": {
      "text/plain": [
       "0     Action,Adventure,Sci-Fi\n",
       "1    Adventure,Mystery,Sci-Fi\n",
       "2             Horror,Thriller\n",
       "3     Animation,Comedy,Family\n",
       "4    Action,Adventure,Fantasy\n",
       "Name: Genre, dtype: object"
      ]
     },
     "execution_count": 7,
     "metadata": {},
     "output_type": "execute_result"
    }
   ],
   "source": [
    "df[\"Genre\"].head()"
   ]
  },
  {
   "cell_type": "code",
   "execution_count": 8,
   "id": "f9e55c73",
   "metadata": {},
   "outputs": [],
   "source": [
    "temp_list = [i.split(\",\") for i in df[\"Genre\"]]"
   ]
  },
  {
   "cell_type": "code",
   "execution_count": 13,
   "id": "834a45c7",
   "metadata": {},
   "outputs": [],
   "source": [
    "array_list = np.unique([j for i in temp_list for j in i])"
   ]
  },
  {
   "cell_type": "code",
   "execution_count": 14,
   "id": "0cfe3bff",
   "metadata": {},
   "outputs": [
    {
     "data": {
      "text/plain": [
       "20"
      ]
     },
     "execution_count": 14,
     "metadata": {},
     "output_type": "execute_result"
    }
   ],
   "source": [
    "array_list.shape[0]"
   ]
  },
  {
   "cell_type": "code",
   "execution_count": 17,
   "id": "dad3b609",
   "metadata": {},
   "outputs": [],
   "source": [
    "## 创建一个全为0的df\n",
    "genre_zero = pd.DataFrame(np.zeros([df.shape[0],array_list.shape[0]]),columns=array_list)"
   ]
  },
  {
   "cell_type": "code",
   "execution_count": 20,
   "id": "4420e399",
   "metadata": {},
   "outputs": [],
   "source": [
    "for i in range(1000):\n",
    "    genre_zero.loc[i,temp_list[i]] = 1"
   ]
  },
  {
   "cell_type": "code",
   "execution_count": 22,
   "id": "6fbeb095",
   "metadata": {},
   "outputs": [
    {
     "data": {
      "text/html": [
       "<div>\n",
       "<style scoped>\n",
       "    .dataframe tbody tr th:only-of-type {\n",
       "        vertical-align: middle;\n",
       "    }\n",
       "\n",
       "    .dataframe tbody tr th {\n",
       "        vertical-align: top;\n",
       "    }\n",
       "\n",
       "    .dataframe thead th {\n",
       "        text-align: right;\n",
       "    }\n",
       "</style>\n",
       "<table border=\"1\" class=\"dataframe\">\n",
       "  <thead>\n",
       "    <tr style=\"text-align: right;\">\n",
       "      <th></th>\n",
       "      <th>Action</th>\n",
       "      <th>Adventure</th>\n",
       "      <th>Animation</th>\n",
       "      <th>Biography</th>\n",
       "      <th>Comedy</th>\n",
       "      <th>Crime</th>\n",
       "      <th>Drama</th>\n",
       "      <th>Family</th>\n",
       "      <th>Fantasy</th>\n",
       "      <th>History</th>\n",
       "      <th>Horror</th>\n",
       "      <th>Music</th>\n",
       "      <th>Musical</th>\n",
       "      <th>Mystery</th>\n",
       "      <th>Romance</th>\n",
       "      <th>Sci-Fi</th>\n",
       "      <th>Sport</th>\n",
       "      <th>Thriller</th>\n",
       "      <th>War</th>\n",
       "      <th>Western</th>\n",
       "    </tr>\n",
       "  </thead>\n",
       "  <tbody>\n",
       "    <tr>\n",
       "      <th>0</th>\n",
       "      <td>1.0</td>\n",
       "      <td>1.0</td>\n",
       "      <td>0.0</td>\n",
       "      <td>0.0</td>\n",
       "      <td>0.0</td>\n",
       "      <td>0.0</td>\n",
       "      <td>0.0</td>\n",
       "      <td>0.0</td>\n",
       "      <td>0.0</td>\n",
       "      <td>0.0</td>\n",
       "      <td>0.0</td>\n",
       "      <td>0.0</td>\n",
       "      <td>0.0</td>\n",
       "      <td>0.0</td>\n",
       "      <td>0.0</td>\n",
       "      <td>1.0</td>\n",
       "      <td>0.0</td>\n",
       "      <td>0.0</td>\n",
       "      <td>0.0</td>\n",
       "      <td>0.0</td>\n",
       "    </tr>\n",
       "    <tr>\n",
       "      <th>1</th>\n",
       "      <td>0.0</td>\n",
       "      <td>1.0</td>\n",
       "      <td>0.0</td>\n",
       "      <td>0.0</td>\n",
       "      <td>0.0</td>\n",
       "      <td>0.0</td>\n",
       "      <td>0.0</td>\n",
       "      <td>0.0</td>\n",
       "      <td>0.0</td>\n",
       "      <td>0.0</td>\n",
       "      <td>0.0</td>\n",
       "      <td>0.0</td>\n",
       "      <td>0.0</td>\n",
       "      <td>1.0</td>\n",
       "      <td>0.0</td>\n",
       "      <td>1.0</td>\n",
       "      <td>0.0</td>\n",
       "      <td>0.0</td>\n",
       "      <td>0.0</td>\n",
       "      <td>0.0</td>\n",
       "    </tr>\n",
       "    <tr>\n",
       "      <th>2</th>\n",
       "      <td>0.0</td>\n",
       "      <td>0.0</td>\n",
       "      <td>0.0</td>\n",
       "      <td>0.0</td>\n",
       "      <td>0.0</td>\n",
       "      <td>0.0</td>\n",
       "      <td>0.0</td>\n",
       "      <td>0.0</td>\n",
       "      <td>0.0</td>\n",
       "      <td>0.0</td>\n",
       "      <td>1.0</td>\n",
       "      <td>0.0</td>\n",
       "      <td>0.0</td>\n",
       "      <td>0.0</td>\n",
       "      <td>0.0</td>\n",
       "      <td>0.0</td>\n",
       "      <td>0.0</td>\n",
       "      <td>1.0</td>\n",
       "      <td>0.0</td>\n",
       "      <td>0.0</td>\n",
       "    </tr>\n",
       "    <tr>\n",
       "      <th>3</th>\n",
       "      <td>0.0</td>\n",
       "      <td>0.0</td>\n",
       "      <td>1.0</td>\n",
       "      <td>0.0</td>\n",
       "      <td>1.0</td>\n",
       "      <td>0.0</td>\n",
       "      <td>0.0</td>\n",
       "      <td>1.0</td>\n",
       "      <td>0.0</td>\n",
       "      <td>0.0</td>\n",
       "      <td>0.0</td>\n",
       "      <td>0.0</td>\n",
       "      <td>0.0</td>\n",
       "      <td>0.0</td>\n",
       "      <td>0.0</td>\n",
       "      <td>0.0</td>\n",
       "      <td>0.0</td>\n",
       "      <td>0.0</td>\n",
       "      <td>0.0</td>\n",
       "      <td>0.0</td>\n",
       "    </tr>\n",
       "    <tr>\n",
       "      <th>4</th>\n",
       "      <td>1.0</td>\n",
       "      <td>1.0</td>\n",
       "      <td>0.0</td>\n",
       "      <td>0.0</td>\n",
       "      <td>0.0</td>\n",
       "      <td>0.0</td>\n",
       "      <td>0.0</td>\n",
       "      <td>0.0</td>\n",
       "      <td>1.0</td>\n",
       "      <td>0.0</td>\n",
       "      <td>0.0</td>\n",
       "      <td>0.0</td>\n",
       "      <td>0.0</td>\n",
       "      <td>0.0</td>\n",
       "      <td>0.0</td>\n",
       "      <td>0.0</td>\n",
       "      <td>0.0</td>\n",
       "      <td>0.0</td>\n",
       "      <td>0.0</td>\n",
       "      <td>0.0</td>\n",
       "    </tr>\n",
       "  </tbody>\n",
       "</table>\n",
       "</div>"
      ],
      "text/plain": [
       "   Action  Adventure  Animation  Biography  Comedy  Crime  Drama  Family  \\\n",
       "0     1.0        1.0        0.0        0.0     0.0    0.0    0.0     0.0   \n",
       "1     0.0        1.0        0.0        0.0     0.0    0.0    0.0     0.0   \n",
       "2     0.0        0.0        0.0        0.0     0.0    0.0    0.0     0.0   \n",
       "3     0.0        0.0        1.0        0.0     1.0    0.0    0.0     1.0   \n",
       "4     1.0        1.0        0.0        0.0     0.0    0.0    0.0     0.0   \n",
       "\n",
       "   Fantasy  History  Horror  Music  Musical  Mystery  Romance  Sci-Fi  Sport  \\\n",
       "0      0.0      0.0     0.0    0.0      0.0      0.0      0.0     1.0    0.0   \n",
       "1      0.0      0.0     0.0    0.0      0.0      1.0      0.0     1.0    0.0   \n",
       "2      0.0      0.0     1.0    0.0      0.0      0.0      0.0     0.0    0.0   \n",
       "3      0.0      0.0     0.0    0.0      0.0      0.0      0.0     0.0    0.0   \n",
       "4      1.0      0.0     0.0    0.0      0.0      0.0      0.0     0.0    0.0   \n",
       "\n",
       "   Thriller  War  Western  \n",
       "0       0.0  0.0      0.0  \n",
       "1       0.0  0.0      0.0  \n",
       "2       1.0  0.0      0.0  \n",
       "3       0.0  0.0      0.0  \n",
       "4       0.0  0.0      0.0  "
      ]
     },
     "execution_count": 22,
     "metadata": {},
     "output_type": "execute_result"
    }
   ],
   "source": [
    "genre_zero.head()"
   ]
  },
  {
   "cell_type": "code",
   "execution_count": 24,
   "id": "40beab1e",
   "metadata": {},
   "outputs": [
    {
     "data": {
      "text/plain": [
       "<AxesSubplot:>"
      ]
     },
     "execution_count": 24,
     "metadata": {},
     "output_type": "execute_result"
    },
    {
     "data": {
      "image/png": "[encoded data removed]",
      "text/plain": [
       "<Figure size 1440x576 with 1 Axes>"
      ]
     },
     "metadata": {
      "needs_background": "light"
     },
     "output_type": "display_data"
    }
   ],
   "source": [
    "genre_zero.sum().sort_values(ascending=False).plot(kind=\"bar\",figsize=(20,8),colormap=\"cool\")"
   ]
  },
  {
   "cell_type": "code",
   "execution_count": 25,
   "id": "059899cf",
   "metadata": {},
   "outputs": [],
   "source": [
    "stock_data = pd.read_csv(\"D:/阶段5-人工智能经典算法编程/机器学习day03/2.code/data/stock_day.csv\")"
   ]
  },
  {
   "cell_type": "code",
   "execution_count": 26,
   "id": "50649e3d",
   "metadata": {},
   "outputs": [
    {
     "data": {
      "text/html": [
       "<div>\n",
       "<style scoped>\n",
       "    .dataframe tbody tr th:only-of-type {\n",
       "        vertical-align: middle;\n",
       "    }\n",
       "\n",
       "    .dataframe tbody tr th {\n",
       "        vertical-align: top;\n",
       "    }\n",
       "\n",
       "    .dataframe thead th {\n",
       "        text-align: right;\n",
       "    }\n",
       "</style>\n",
       "<table border=\"1\" class=\"dataframe\">\n",
       "  <thead>\n",
       "    <tr style=\"text-align: right;\">\n",
       "      <th></th>\n",
       "      <th>open</th>\n",
       "      <th>high</th>\n",
       "      <th>close</th>\n",
       "      <th>low</th>\n",
       "      <th>volume</th>\n",
       "      <th>price_change</th>\n",
       "      <th>p_change</th>\n",
       "      <th>ma5</th>\n",
       "      <th>ma10</th>\n",
       "      <th>ma20</th>\n",
       "      <th>v_ma5</th>\n",
       "      <th>v_ma10</th>\n",
       "      <th>v_ma20</th>\n",
       "      <th>turnover</th>\n",
       "    </tr>\n",
       "  </thead>\n",
       "  <tbody>\n",
       "    <tr>\n",
       "      <th>2018-02-27</th>\n",
       "      <td>23.53</td>\n",
       "      <td>25.88</td>\n",
       "      <td>24.16</td>\n",
       "      <td>23.53</td>\n",
       "      <td>95578.03</td>\n",
       "      <td>0.63</td>\n",
       "      <td>2.68</td>\n",
       "      <td>22.942</td>\n",
       "      <td>22.142</td>\n",
       "      <td>22.875</td>\n",
       "      <td>53782.64</td>\n",
       "      <td>46738.65</td>\n",
       "      <td>55576.11</td>\n",
       "      <td>2.39</td>\n",
       "    </tr>\n",
       "    <tr>\n",
       "      <th>2018-02-26</th>\n",
       "      <td>22.80</td>\n",
       "      <td>23.78</td>\n",
       "      <td>23.53</td>\n",
       "      <td>22.80</td>\n",
       "      <td>60985.11</td>\n",
       "      <td>0.69</td>\n",
       "      <td>3.02</td>\n",
       "      <td>22.406</td>\n",
       "      <td>21.955</td>\n",
       "      <td>22.942</td>\n",
       "      <td>40827.52</td>\n",
       "      <td>42736.34</td>\n",
       "      <td>56007.50</td>\n",
       "      <td>1.53</td>\n",
       "    </tr>\n",
       "    <tr>\n",
       "      <th>2018-02-23</th>\n",
       "      <td>22.88</td>\n",
       "      <td>23.37</td>\n",
       "      <td>22.82</td>\n",
       "      <td>22.71</td>\n",
       "      <td>52914.01</td>\n",
       "      <td>0.54</td>\n",
       "      <td>2.42</td>\n",
       "      <td>21.938</td>\n",
       "      <td>21.929</td>\n",
       "      <td>23.022</td>\n",
       "      <td>35119.58</td>\n",
       "      <td>41871.97</td>\n",
       "      <td>56372.85</td>\n",
       "      <td>1.32</td>\n",
       "    </tr>\n",
       "    <tr>\n",
       "      <th>2018-02-22</th>\n",
       "      <td>22.25</td>\n",
       "      <td>22.76</td>\n",
       "      <td>22.28</td>\n",
       "      <td>22.02</td>\n",
       "      <td>36105.01</td>\n",
       "      <td>0.36</td>\n",
       "      <td>1.64</td>\n",
       "      <td>21.446</td>\n",
       "      <td>21.909</td>\n",
       "      <td>23.137</td>\n",
       "      <td>35397.58</td>\n",
       "      <td>39904.78</td>\n",
       "      <td>60149.60</td>\n",
       "      <td>0.90</td>\n",
       "    </tr>\n",
       "    <tr>\n",
       "      <th>2018-02-14</th>\n",
       "      <td>21.49</td>\n",
       "      <td>21.99</td>\n",
       "      <td>21.92</td>\n",
       "      <td>21.48</td>\n",
       "      <td>23331.04</td>\n",
       "      <td>0.44</td>\n",
       "      <td>2.05</td>\n",
       "      <td>21.366</td>\n",
       "      <td>21.923</td>\n",
       "      <td>23.253</td>\n",
       "      <td>33590.21</td>\n",
       "      <td>42935.74</td>\n",
       "      <td>61716.11</td>\n",
       "      <td>0.58</td>\n",
       "    </tr>\n",
       "  </tbody>\n",
       "</table>\n",
       "</div>"
      ],
      "text/plain": [
       "             open   high  close    low    volume  price_change  p_change  \\\n",
       "2018-02-27  23.53  25.88  24.16  23.53  95578.03          0.63      2.68   \n",
       "2018-02-26  22.80  23.78  23.53  22.80  60985.11          0.69      3.02   \n",
       "2018-02-23  22.88  23.37  22.82  22.71  52914.01          0.54      2.42   \n",
       "2018-02-22  22.25  22.76  22.28  22.02  36105.01          0.36      1.64   \n",
       "2018-02-14  21.49  21.99  21.92  21.48  23331.04          0.44      2.05   \n",
       "\n",
       "               ma5    ma10    ma20     v_ma5    v_ma10    v_ma20  turnover  \n",
       "2018-02-27  22.942  22.142  22.875  53782.64  46738.65  55576.11      2.39  \n",
       "2018-02-26  22.406  21.955  22.942  40827.52  42736.34  56007.50      1.53  \n",
       "2018-02-23  21.938  21.929  23.022  35119.58  41871.97  56372.85      1.32  \n",
       "2018-02-22  21.446  21.909  23.137  35397.58  39904.78  60149.60      0.90  \n",
       "2018-02-14  21.366  21.923  23.253  33590.21  42935.74  61716.11      0.58  "
      ]
     },
     "execution_count": 26,
     "metadata": {},
     "output_type": "execute_result"
    }
   ],
   "source": [
    "stock_data.head()"
   ]
  },
  {
   "cell_type": "code",
   "execution_count": 27,
   "id": "a0c5249b",
   "metadata": {},
   "outputs": [],
   "source": [
    "stock_data = stock_data.drop([\"ma5\",\"ma10\",\"ma20\",\"v_ma5\",\"v_ma10\",\"v_ma20\"], axis=1)"
   ]
  },
  {
   "cell_type": "code",
   "execution_count": null,
   "id": "9d0b0021",
   "metadata": {},
   "outputs": [],
   "source": []
  }
 ],
 "metadata": {
  "kernelspec": {
   "display_name": "Python 3 (ipykernel)",
   "language": "python",
   "name": "python3"
  },
  "language_info": {
   "codemirror_mode": {
    "name": "ipython",
    "version": 3
   },
   "file_extension": ".py",
   "mimetype": "text/x-python",
   "name": "python",
   "nbconvert_exporter": "python",
   "pygments_lexer": "ipython3",
   "version": "3.9.7"
  },
  "toc": {
   "base_numbering": 1,
   "nav_menu": {},
   "number_sections": true,
   "sideBar": true,
   "skip_h1_title": false,
   "title_cell": "Table of Contents",
   "title_sidebar": "Contents",
   "toc_cell": false,
   "toc_position": {},
   "toc_section_display": true,
   "toc_window_display": true
  }
 },
 "nbformat": 4,
 "nbformat_minor": 5
}
